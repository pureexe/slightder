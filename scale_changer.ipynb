{
 "cells": [
  {
   "cell_type": "code",
   "execution_count": 7,
   "metadata": {},
   "outputs": [],
   "source": [
    "import os \n",
    "import shutil\n",
    "from tqdm.auto import tqdm"
   ]
  },
  {
   "cell_type": "code",
   "execution_count": 13,
   "metadata": {},
   "outputs": [],
   "source": [
    "files = os.listdir(\"datasets/scale-1_1/unsplash2000_ball\")"
   ]
  },
  {
   "cell_type": "code",
   "execution_count": 14,
   "metadata": {},
   "outputs": [
    {
     "data": {
      "application/vnd.jupyter.widget-view+json": {
       "model_id": "0c3fba46de874d468f1094b39bd8b9c8",
       "version_major": 2,
       "version_minor": 0
      },
      "text/plain": [
       "  0%|          | 0/2000 [00:00<?, ?it/s]"
      ]
     },
     "metadata": {},
     "output_type": "display_data"
    }
   ],
   "source": [
    "new_files = []\n",
    "for file in tqdm(files):\n",
    "    if file.startswith(\"-0.\"):\n",
    "        new_files.append(file.replace(\"-0.\", \"1.\"))\n",
    "    elif file.startswith(\"0.\"):\n",
    "        new_files.append(file.replace(\"0.\", \"2.\"))\n",
    "    elif file.startswith(\"-1.\"):\n",
    "        new_files.append(file.replace(\"-1.\", \"1.\"))\n",
    "    elif file.startswith(\"1.\"):\n",
    "        new_files.append(file.replace(\"1.\", \"2.\"))\n",
    "    else:\n",
    "        print(\"unexpected: \", file)"
   ]
  },
  {
   "cell_type": "code",
   "execution_count": 15,
   "metadata": {},
   "outputs": [
    {
     "data": {
      "text/plain": [
       "2000"
      ]
     },
     "execution_count": 15,
     "metadata": {},
     "output_type": "execute_result"
    }
   ],
   "source": [
    "len(set(new_files))"
   ]
  },
  {
   "cell_type": "code",
   "execution_count": 17,
   "metadata": {},
   "outputs": [
    {
     "data": {
      "application/vnd.jupyter.widget-view+json": {
       "model_id": "400f0506cd3f414b81a9884ade87f7de",
       "version_major": 2,
       "version_minor": 0
      },
      "text/plain": [
       "  0%|          | 0/2000 [00:00<?, ?it/s]"
      ]
     },
     "metadata": {},
     "output_type": "display_data"
    }
   ],
   "source": [
    "for idx in tqdm(range(2000)):\n",
    "    os.makedirs(f\"datasets/scale1_2/unsplash2000_raw/{new_files[idx]}\", exist_ok=True)\n",
    "    shutil.copy2(f\"datasets/scale-1_1/unsplash2000_raw/{files[idx]}/image.png\", f\"datasets/scale1_2/unsplash2000_raw/{new_files[idx]}/image.png\")"
   ]
  },
  {
   "cell_type": "code",
   "execution_count": null,
   "metadata": {},
   "outputs": [],
   "source": []
  }
 ],
 "metadata": {
  "kernelspec": {
   "display_name": "venv_pytorch2.0",
   "language": "python",
   "name": "python3"
  },
  "language_info": {
   "codemirror_mode": {
    "name": "ipython",
    "version": 3
   },
   "file_extension": ".py",
   "mimetype": "text/x-python",
   "name": "python",
   "nbconvert_exporter": "python",
   "pygments_lexer": "ipython3",
   "version": "3.11.6"
  }
 },
 "nbformat": 4,
 "nbformat_minor": 2
}
