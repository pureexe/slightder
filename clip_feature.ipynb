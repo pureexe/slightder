{
 "cells": [
  {
   "cell_type": "code",
   "execution_count": 5,
   "metadata": {},
   "outputs": [],
   "source": [
    "from PIL import Image\n",
    "import requests\n",
    "from transformers import CLIPProcessor, CLIPModel, CLIPVisionModel\n",
    "from tqdm.auto import tqdm \n",
    "import os\n",
    "import numpy as np\n",
    "import torch"
   ]
  },
  {
   "cell_type": "code",
   "execution_count": 2,
   "metadata": {},
   "outputs": [],
   "source": [
    "#model = CLIPModel.from_pretrained(\"openai/clip-vit-base-patch32\")\n",
    "#\n",
    "model = CLIPVisionModel.from_pretrained(\"openai/clip-vit-base-patch32\").to('cuda')\n",
    "processor = CLIPProcessor.from_pretrained(\"openai/clip-vit-base-patch32\")"
   ]
  },
  {
   "cell_type": "code",
   "execution_count": 5,
   "metadata": {},
   "outputs": [],
   "source": [
    "url = \"http://images.cocodataset.org/val2017/000000039769.jpg\"\n",
    "image = Image.open(requests.get(url, stream=True).raw)"
   ]
  },
  {
   "cell_type": "code",
   "execution_count": 6,
   "metadata": {},
   "outputs": [],
   "source": [
    "inputs = processor(images=image, return_tensors=\"pt\", padding=True)"
   ]
  },
  {
   "cell_type": "code",
   "execution_count": 8,
   "metadata": {},
   "outputs": [
    {
     "data": {
      "text/plain": [
       "torch.Size([1, 3, 224, 224])"
      ]
     },
     "execution_count": 8,
     "metadata": {},
     "output_type": "execute_result"
    }
   ],
   "source": [
    "inputs['pixel_values'].shape"
   ]
  },
  {
   "cell_type": "code",
   "execution_count": 9,
   "metadata": {},
   "outputs": [],
   "source": [
    "outputs = model(**inputs)"
   ]
  },
  {
   "cell_type": "code",
   "execution_count": 13,
   "metadata": {},
   "outputs": [
    {
     "data": {
      "text/plain": [
       "torch.Size([1, 768])"
      ]
     },
     "execution_count": 13,
     "metadata": {},
     "output_type": "execute_result"
    }
   ],
   "source": [
    "outputs['pooler_output'].shape"
   ]
  },
  {
   "cell_type": "code",
   "execution_count": 5,
   "metadata": {},
   "outputs": [],
   "source": [
    "files = sorted(os.listdir(\"datasets/scale-1_1/unsplash2000_ball\"))"
   ]
  },
  {
   "cell_type": "code",
   "execution_count": 6,
   "metadata": {},
   "outputs": [
    {
     "data": {
      "application/vnd.jupyter.widget-view+json": {
       "model_id": "454fec7b84f9442bb050bbe1e346ac0f",
       "version_major": 2,
       "version_minor": 0
      },
      "text/plain": [
       "  0%|          | 0/2000 [00:00<?, ?it/s]"
      ]
     },
     "metadata": {},
     "output_type": "display_data"
    }
   ],
   "source": [
    "with torch.no_grad():\n",
    "    for filename in tqdm(files):\n",
    "        image = Image.open(f\"datasets/scale-1_1/unsplash2000_ball/{filename}/image.png\")\n",
    "        inputs = processor(images=image, return_tensors=\"pt\", padding=True)\n",
    "        inputs = {k: v.to(\"cuda\") for k, v in inputs.items()}\n",
    "        outputs = model(**inputs)\n",
    "        convnext_last_hidden_states = outputs.pooler_output\n",
    "        output_dir = f\"datasets/scale-1_1/unsplash2000_clip/{filename}\"\n",
    "        os.makedirs(output_dir, exist_ok=True)\n",
    "        torch.save(convnext_last_hidden_states.cpu(), f\"{output_dir}/last_hidden_states.pt\")"
   ]
  },
  {
   "cell_type": "markdown",
   "metadata": {},
   "source": [
    "# process small studio"
   ]
  },
  {
   "cell_type": "code",
   "execution_count": 3,
   "metadata": {},
   "outputs": [],
   "source": [
    "files = sorted(os.listdir(\"datasets/scale-1_1/unsplash2000_ball\"))"
   ]
  },
  {
   "cell_type": "code",
   "execution_count": 7,
   "metadata": {},
   "outputs": [
    {
     "data": {
      "application/vnd.jupyter.widget-view+json": {
       "model_id": "1dfe07ddd2e94d2bb9228b1e993b3329",
       "version_major": 2,
       "version_minor": 0
      },
      "text/plain": [
       "  0%|          | 0/360 [00:00<?, ?it/s]"
      ]
     },
     "metadata": {},
     "output_type": "display_data"
    }
   ],
   "source": [
    "with torch.no_grad():\n",
    "    for idx, filename in enumerate(tqdm(np.linspace(-1,1,360))):\n",
    "        filename = f\"{filename:.8f}\"\n",
    "        image = Image.open(f\"datasets/rotate_studio_ball/{idx:03d}.png\")\n",
    "        inputs = processor(images=image, return_tensors=\"pt\", padding=True)\n",
    "        inputs = {k: v.to(\"cuda\") for k, v in inputs.items()}\n",
    "        outputs = model(**inputs)\n",
    "        convnext_last_hidden_states = outputs.pooler_output\n",
    "        output_dir = f\"datasets/scale-1_1/rotate_studio_clip/{filename}\"\n",
    "        os.makedirs(output_dir, exist_ok=True)\n",
    "        torch.save(convnext_last_hidden_states.cpu(), f\"{output_dir}/last_hidden_states.pt\")"
   ]
  },
  {
   "cell_type": "code",
   "execution_count": null,
   "metadata": {},
   "outputs": [],
   "source": []
  }
 ],
 "metadata": {
  "kernelspec": {
   "display_name": "venv_pytorch2.0",
   "language": "python",
   "name": "python3"
  },
  "language_info": {
   "codemirror_mode": {
    "name": "ipython",
    "version": 3
   },
   "file_extension": ".py",
   "mimetype": "text/x-python",
   "name": "python",
   "nbconvert_exporter": "python",
   "pygments_lexer": "ipython3",
   "version": "3.11.6"
  }
 },
 "nbformat": 4,
 "nbformat_minor": 2
}
