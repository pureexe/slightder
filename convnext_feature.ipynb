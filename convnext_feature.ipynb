{
 "cells": [
  {
   "cell_type": "code",
   "execution_count": 5,
   "metadata": {},
   "outputs": [],
   "source": [
    "from transformers import ConvNextImageProcessor, ConvNextModel\n",
    "import numpy as np\n",
    "import torch"
   ]
  },
  {
   "cell_type": "code",
   "execution_count": 3,
   "metadata": {},
   "outputs": [],
   "source": [
    "convnext_processor = ConvNextImageProcessor.from_pretrained(\"facebook/convnext-base-224-22k\")\n",
    "convnext_model = ConvNextModel.from_pretrained(\"facebook/convnext-base-224-22k\").to(\"cuda\")"
   ]
  },
  {
   "cell_type": "code",
   "execution_count": 8,
   "metadata": {},
   "outputs": [],
   "source": [
    "import os\n",
    "files = sorted(os.listdir(\"datasets/scale-1_1/unsplash2000_ball\"))"
   ]
  },
  {
   "cell_type": "code",
   "execution_count": 6,
   "metadata": {},
   "outputs": [],
   "source": [
    "import torch\n",
    "from tqdm.auto import tqdm\n",
    "from PIL import Image"
   ]
  },
  {
   "cell_type": "code",
   "execution_count": 11,
   "metadata": {},
   "outputs": [
    {
     "data": {
      "application/vnd.jupyter.widget-view+json": {
       "model_id": "0af6d89c07c948bc8d423c335831886e",
       "version_major": 2,
       "version_minor": 0
      },
      "text/plain": [
       "  0%|          | 0/2000 [00:00<?, ?it/s]"
      ]
     },
     "metadata": {},
     "output_type": "display_data"
    }
   ],
   "source": [
    "with torch.no_grad():\n",
    "    for filename in tqdm(files):\n",
    "        image = Image.open(f\"datasets/scale-1_1/unsplash2000_ball/{filename}/image.png\")\n",
    "        convnext_inputs = convnext_processor(image, return_tensors=\"pt\")\n",
    "        convnext_inputs = {k: v.to(\"cuda\") for k, v in convnext_inputs.items()}\n",
    "        convnext_outputs = convnext_model(**convnext_inputs)\n",
    "        convnext_last_hidden_states = convnext_outputs.last_hidden_state\n",
    "        output_dir = f\"datasets/scale-1_1/unsplash2000_convnext/{filename}\"\n",
    "        os.makedirs(output_dir, exist_ok=True)\n",
    "        torch.save(convnext_last_hidden_states.cpu(), f\"{output_dir}/last_hidden_states.pt\")"
   ]
  },
  {
   "cell_type": "code",
   "execution_count": 12,
   "metadata": {},
   "outputs": [],
   "source": [
    "import torchvision\n",
    "a = torchvision.io.read_image(\"datasets/scale-1_1/unsplash2000_ball/-0.00019737/image.png\")"
   ]
  },
  {
   "cell_type": "markdown",
   "metadata": {},
   "source": [
    "# process small studio"
   ]
  },
  {
   "cell_type": "code",
   "execution_count": 15,
   "metadata": {},
   "outputs": [
    {
     "data": {
      "application/vnd.jupyter.widget-view+json": {
       "model_id": "8e9e357446d445879dff056479e3bfbe",
       "version_major": 2,
       "version_minor": 0
      },
      "text/plain": [
       "  0%|          | 0/360 [00:00<?, ?it/s]"
      ]
     },
     "metadata": {},
     "output_type": "display_data"
    }
   ],
   "source": [
    "with torch.no_grad():\n",
    "    for idx, filename in enumerate(tqdm(np.linspace(-1,1,360))):\n",
    "        filename = f\"{filename:.8f}\"\n",
    "        image = Image.open(f\"datasets/rotate_studio_ball/{idx:03d}.png\")\n",
    "        inputs = convnext_processor(images=image, return_tensors=\"pt\", padding=True)\n",
    "        inputs = {k: v.to(\"cuda\") for k, v in inputs.items()}\n",
    "        outputs = convnext_model(**inputs)\n",
    "        convnext_last_hidden_states = outputs.last_hidden_state\n",
    "        output_dir = f\"datasets/scale-1_1/rotate_studio_convnext/{filename}\"\n",
    "        os.makedirs(output_dir, exist_ok=True)\n",
    "        torch.save(convnext_last_hidden_states.cpu(), f\"{output_dir}/last_hidden_states.pt\")"
   ]
  },
  {
   "cell_type": "code",
   "execution_count": 14,
   "metadata": {},
   "outputs": [],
   "source": [
    "b = a / 255.0"
   ]
  },
  {
   "cell_type": "code",
   "execution_count": 16,
   "metadata": {},
   "outputs": [
    {
     "data": {
      "text/plain": [
       "torch.Size([3, 256, 256])"
      ]
     },
     "execution_count": 16,
     "metadata": {},
     "output_type": "execute_result"
    }
   ],
   "source": [
    "b.shape"
   ]
  },
  {
   "cell_type": "code",
   "execution_count": 11,
   "metadata": {},
   "outputs": [],
   "source": [
    "a = torch.load(\"datasets/scale-1_1/unsplash2000_convnext/0.84577371/last_hidden_states.pt\")"
   ]
  },
  {
   "cell_type": "code",
   "execution_count": 12,
   "metadata": {},
   "outputs": [
    {
     "data": {
      "text/plain": [
       "torch.Size([1, 1024, 7, 7])"
      ]
     },
     "execution_count": 12,
     "metadata": {},
     "output_type": "execute_result"
    }
   ],
   "source": [
    "a.shape"
   ]
  },
  {
   "cell_type": "code",
   "execution_count": 13,
   "metadata": {},
   "outputs": [],
   "source": [
    "b = torch.load(\"datasets/scale-1_1/rotate_studio_convnext/-0.00278552/last_hidden_states.pt\")"
   ]
  },
  {
   "cell_type": "code",
   "execution_count": 14,
   "metadata": {},
   "outputs": [
    {
     "data": {
      "text/plain": [
       "torch.Size([1, 1024])"
      ]
     },
     "execution_count": 14,
     "metadata": {},
     "output_type": "execute_result"
    }
   ],
   "source": [
    "b.shape"
   ]
  },
  {
   "cell_type": "code",
   "execution_count": null,
   "metadata": {},
   "outputs": [],
   "source": []
  }
 ],
 "metadata": {
  "kernelspec": {
   "display_name": "venv_pytorch2.0",
   "language": "python",
   "name": "python3"
  },
  "language_info": {
   "codemirror_mode": {
    "name": "ipython",
    "version": 3
   },
   "file_extension": ".py",
   "mimetype": "text/x-python",
   "name": "python",
   "nbconvert_exporter": "python",
   "pygments_lexer": "ipython3",
   "version": "3.11.6"
  }
 },
 "nbformat": 4,
 "nbformat_minor": 2
}
