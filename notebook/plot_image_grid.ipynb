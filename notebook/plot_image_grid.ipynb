{
 "cells": [
  {
   "cell_type": "code",
   "execution_count": 1,
   "metadata": {},
   "outputs": [],
   "source": [
    "import os\n",
    "import torch\n",
    "from torchvision.io import read_image\n",
    "from torchvision.utils import make_grid\n",
    "import torchvision\n",
    "import numpy as np \n",
    "from PIL import Image"
   ]
  },
  {
   "cell_type": "code",
   "execution_count": 2,
   "metadata": {},
   "outputs": [],
   "source": [
    "def create_image_grid(image_dir, output_path, num_rows=10):\n",
    "  \"\"\"\n",
    "  Reads all PNG images in a directory (sorted by filename), creates\n",
    "  an image grid, and saves it back as a new image.\n",
    "\n",
    "  Args:\n",
    "      image_dir (str): Path to the directory containing PNG images.\n",
    "      output_path (str): Path to save the resulting image grid.\n",
    "      num_rows (int, optional): Number of rows in the image grid. Defaults to 3.\n",
    "  \"\"\"\n",
    "\n",
    "  images = []\n",
    "  for filename in sorted(os.listdir(image_dir), key=lambda x: x.lower()):\n",
    "    if filename.lower().endswith(\".png\"):\n",
    "      image_path = os.path.join(image_dir, filename)\n",
    "      image = read_image(image_path)  # Read as torch tensor\n",
    "      images.append(image)\n",
    "\n",
    "  if not images:\n",
    "    raise ValueError(\"No PNG images found in the directory.\")\n",
    "\n",
    "  # Ensure all images have the same dimensions for grid creation\n",
    "  image_size = images[0].shape\n",
    "  if not all(image.shape == image_size for image in images[1:]):\n",
    "    raise ValueError(\"Images must have the same dimensions for grid creation.\")\n",
    "\n",
    "  grid = make_grid(images, nrow=num_rows, padding=2)  # Create image grid with padding\n",
    "  grid = grid.permute(1, 2, 0)  # Move channel dimension to the last for PIL image\n",
    "\n",
    "  # Save the grid image\n",
    "  grid_image = Image.fromarray(grid.numpy().astype(np.uint8))\n",
    "  grid_image.save(output_path)\n",
    "  #torchvision.utils.save_image(grid.uint8(), output_path)\n",
    "  print(f\"Image grid saved to: {output_path}\")\n"
   ]
  },
  {
   "cell_type": "code",
   "execution_count": 5,
   "metadata": {},
   "outputs": [
    {
     "name": "stdout",
     "output_type": "stream",
     "text": [
      "Image grid saved to: ../output/textural_inversion/raw/mapnetlearnmatrix_chkpt1000_shoe401_two_image_i1_lr5e-5_alpha1.0_rank4_noxattn_100_100000steps.png\n",
      "Image grid saved to: ../output/textural_inversion/raw/mapnetlearnmatrix_chkpt1000_shoe401_two_image_i2_lr5e-5_alpha1.0_rank4_noxattn_100_100000steps.png\n"
     ]
    }
   ],
   "source": [
    "#LR = [\"1e-3\", \"1e-4\", \"5e-4\", \"5e-5\"]\n",
    "LR = [\"5e-5\"]\n",
    "IMAGES = [\"1\",\"2\"]\n",
    "\n",
    "for learning_rate in LR:\n",
    "    for image_id in IMAGES:\n",
    "        #mapnetlearnmatrix_chkpt1000_shoe401_two_image_i2_lr5e-5_alpha1.0_rank4_noxattn_100_100000steps\n",
    "        #create_image_grid(f'../output/textural_inversion/raw/mapnetlearnmatrix_chkpt100k_2scenes_i{image_id}_lr{learning_rate}_alpha1.0_rank4_noxattn_100', f'../output/textural_inversion/raw/mapnetlearnmatrix_chkpt100k_2scenes_i{image_id}_lr{learning_rate}_alpha1.0_rank4_noxattn_100.png')\n",
    "        create_image_grid(f'../output/textural_inversion/raw/mapnetlearnmatrix_chkpt1000_shoe401_two_image_i{image_id}_lr{learning_rate}_alpha1.0_rank4_noxattn_100_100000steps', f'../output/textural_inversion/raw/mapnetlearnmatrix_chkpt1000_shoe401_two_image_i{image_id}_lr{learning_rate}_alpha1.0_rank4_noxattn_100_100000steps.png')"
   ]
  },
  {
   "cell_type": "code",
   "execution_count": null,
   "metadata": {},
   "outputs": [],
   "source": []
  }
 ],
 "metadata": {
  "kernelspec": {
   "display_name": "venv_pytorch2.0",
   "language": "python",
   "name": "python3"
  },
  "language_info": {
   "codemirror_mode": {
    "name": "ipython",
    "version": 3
   },
   "file_extension": ".py",
   "mimetype": "text/x-python",
   "name": "python",
   "nbconvert_exporter": "python",
   "pygments_lexer": "ipython3",
   "version": "3.11.8"
  }
 },
 "nbformat": 4,
 "nbformat_minor": 2
}
