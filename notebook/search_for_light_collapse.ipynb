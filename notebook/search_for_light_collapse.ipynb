{
 "cells": [
  {
   "cell_type": "code",
   "execution_count": 1,
   "metadata": {},
   "outputs": [],
   "source": [
    "import torchvision \n",
    "import torch \n",
    "from PIL import Image \n",
    "\n",
    "import os \n",
    "from PIL import Image\n",
    "from PIL import ImageFont\n",
    "from PIL import ImageDraw \n",
    "font = ImageFont.truetype(\"/usr/share/fonts/truetype/noto/NotoSansMono-Regular.ttf\", 16)\n",
    "import numpy as np\n",
    "from tqdm.auto import tqdm\n",
    "import skimage\n",
    "from tqdm.auto import tqdm"
   ]
  },
  {
   "cell_type": "code",
   "execution_count": 9,
   "metadata": {},
   "outputs": [],
   "source": [
    "OBJECTS = [\n",
    "    'shoe',\n",
    "]\n",
    "SCALES = [-1.0, 1.0]\n",
    "LORA_CHKPT = range(100, 40000, 100)\n",
    "SEEDS = [807, 200, 201, 202, 800]\n",
    "FOLDER_IN = \"../output/chkpt100/unsplash250_sh1/color\"\n",
    "FOLDER_OUT = \"../output/chkpt100/unsplash250_sh1/color_with_text\"\n",
    "FOLDER_VID = \"../output/chkpt100/unsplash250_sh1/color_video\"\n",
    "FOLDER_ROW = \"../output/chkpt100/unsplash250_sh1/color_row\""
   ]
  },
  {
   "cell_type": "code",
   "execution_count": 27,
   "metadata": {},
   "outputs": [
    {
     "data": {
      "application/vnd.jupyter.widget-view+json": {
       "model_id": "4f074b0cf6d54a9e8f6d903369cc1078",
       "version_major": 2,
       "version_minor": 0
      },
      "text/plain": [
       "  0%|          | 0/399 [00:00<?, ?it/s]"
      ]
     },
     "metadata": {},
     "output_type": "display_data"
    }
   ],
   "source": [
    "\n",
    "\n",
    "for lora_id, lora_name in enumerate(tqdm(LORA_CHKPT)):\n",
    "    for prompt_id, prompt_name in enumerate(OBJECTS):\n",
    "        for scale_id, scale_name in enumerate(SCALES):\n",
    "            for seed_id, seed_name in enumerate(SEEDS):\n",
    "                image = Image.open(f\"{FOLDER_IN}/{lora_id:04d}_{prompt_id:04d}_{scale_id:04d}_{seed_id:04d}.png\")\n",
    "                draw = ImageDraw.Draw(image)\n",
    "                draw.text((10, 10),f\"step: {lora_name:5d}\\nprompt: {prompt_name}\\nscale: {scale_name:.2f}\\nseed: {seed_name:3d}\",(255,255,255),font=font)\n",
    "                image.save(f\"{FOLDER_OUT}/{lora_id:04d}_{prompt_id:04d}_{scale_id:04d}_{seed_id:04d}.png\")\n",
    "\n"
   ]
  },
  {
   "cell_type": "code",
   "execution_count": null,
   "metadata": {},
   "outputs": [],
   "source": []
  },
  {
   "cell_type": "code",
   "execution_count": 5,
   "metadata": {},
   "outputs": [
    {
     "data": {
      "application/vnd.jupyter.widget-view+json": {
       "model_id": "2f885aa1834f442689b92c0638c15aad",
       "version_major": 2,
       "version_minor": 0
      },
      "text/plain": [
       "  0%|          | 0/399 [00:00<?, ?it/s]"
      ]
     },
     "metadata": {},
     "output_type": "display_data"
    },
    {
     "name": "stderr",
     "output_type": "stream",
     "text": [
      "/home/vll/venv_pytorch2.0/lib/python3.11/site-packages/torchvision/transforms/functional.py:1603: UserWarning: The default value of the antialias parameter of all the resizing transforms (Resize(), RandomResizedCrop(), etc.) will change from None to True in v0.17, in order to be consistent across the PIL and Tensor backends. To suppress this warning, directly pass antialias=True (recommended, future default), antialias=None (current default, which means False for Tensors and True for PIL), or antialias=False (only works on Tensors - PIL will still use antialiasing). This also applies if you are using the inference transforms from the models weights: update the call to weights.transforms(antialias=True).\n",
      "  warnings.warn(\n"
     ]
    }
   ],
   "source": [
    "for lora_id, lora_name in enumerate(tqdm(LORA_CHKPT)):\n",
    "    for scale_id, scale_name in enumerate(SCALES):\n",
    "        images = []\n",
    "        for prompt_id, prompt_name in enumerate(OBJECTS):\n",
    "            for seed_id, seed_name in enumerate(SEEDS):\n",
    "                fpath = os.path.join(FOLDER_OUT, f'{lora_id:04d}_{prompt_id:04d}_{scale_id:04d}_{seed_id:04d}.png')\n",
    "                image = torchvision.io.read_image(fpath)\n",
    "                image = torchvision.transforms.functional.resize(image, (256,256))\n",
    "                images.append(image)\n",
    "        images = torch.stack(images)\n",
    "        grid = torchvision.utils.make_grid(images, nrow=len(SEEDS))\n",
    "        grid = torchvision.transforms.ToPILImage()(grid)\n",
    "        output_name = f\"{FOLDER_ROW}/{lora_id:04d}_{scale_id:04d}.png\"\n",
    "        grid.save(output_name)\n"
   ]
  },
  {
   "cell_type": "code",
   "execution_count": 10,
   "metadata": {},
   "outputs": [
    {
     "name": "stderr",
     "output_type": "stream",
     "text": [
      "ffmpeg version 4.4.2-0ubuntu0.22.04.1 Copyright (c) 2000-2021 the FFmpeg developers\n",
      "  built with gcc 11 (Ubuntu 11.2.0-19ubuntu1)\n",
      "  configuration: --prefix=/usr --extra-version=0ubuntu0.22.04.1 --toolchain=hardened --libdir=/usr/lib/x86_64-linux-gnu --incdir=/usr/include/x86_64-linux-gnu --arch=amd64 --enable-gpl --disable-stripping --enable-gnutls --enable-ladspa --enable-libaom --enable-libass --enable-libbluray --enable-libbs2b --enable-libcaca --enable-libcdio --enable-libcodec2 --enable-libdav1d --enable-libflite --enable-libfontconfig --enable-libfreetype --enable-libfribidi --enable-libgme --enable-libgsm --enable-libjack --enable-libmp3lame --enable-libmysofa --enable-libopenjpeg --enable-libopenmpt --enable-libopus --enable-libpulse --enable-librabbitmq --enable-librubberband --enable-libshine --enable-libsnappy --enable-libsoxr --enable-libspeex --enable-libsrt --enable-libssh --enable-libtheora --enable-libtwolame --enable-libvidstab --enable-libvorbis --enable-libvpx --enable-libwebp --enable-libx265 --enable-libxml2 --enable-libxvid --enable-libzimg --enable-libzmq --enable-libzvbi --enable-lv2 --enable-omx --enable-openal --enable-opencl --enable-opengl --enable-sdl2 --enable-pocketsphinx --enable-librsvg --enable-libmfx --enable-libdc1394 --enable-libdrm --enable-libiec61883 --enable-chromaprint --enable-frei0r --enable-libx264 --enable-shared\n",
      "  libavutil      56. 70.100 / 56. 70.100\n",
      "  libavcodec     58.134.100 / 58.134.100\n",
      "  libavformat    58. 76.100 / 58. 76.100\n",
      "  libavdevice    58. 13.100 / 58. 13.100\n",
      "  libavfilter     7.110.100 /  7.110.100\n",
      "  libswscale      5.  9.100 /  5.  9.100\n",
      "  libswresample   3.  9.100 /  3.  9.100\n",
      "  libpostproc    55.  9.100 / 55.  9.100\n",
      "Input #0, image2, from '../output/chkpt100/unsplash250_sh1/color_row/%04d_0000.png':\n",
      "  Duration: 00:00:15.96, start: 0.000000, bitrate: N/A\n",
      "  Stream #0:0: Video: png, rgb24(pc), 1292x260, 25 fps, 25 tbr, 25 tbn, 25 tbc\n",
      "Stream mapping:\n",
      "  Stream #0:0 -> #0:0 (png (native) -> h264 (libx264))\n",
      "Press [q] to stop, [?] for help\n",
      "[libx264 @ 0x55c617660380] using cpu capabilities: MMX2 SSE2Fast SSSE3 SSE4.2 AVX FMA3 BMI2 AVX2\n",
      "[libx264 @ 0x55c617660380] profile High, level 2.2, 4:2:0, 8-bit\n",
      "[libx264 @ 0x55c617660380] 264 - core 163 r3060 5db6aa6 - H.264/MPEG-4 AVC codec - Copyleft 2003-2021 - http://www.videolan.org/x264.html - options: cabac=1 ref=3 deblock=1:0:0 analyse=0x3:0x113 me=hex subme=7 psy=1 psy_rd=1.00:0.00 mixed_ref=1 me_range=16 chroma_me=1 trellis=1 8x8dct=1 cqm=0 deadzone=21,11 fast_pskip=1 chroma_qp_offset=-2 threads=8 lookahead_threads=1 sliced_threads=0 nr=0 decimate=1 interlaced=0 bluray_compat=0 constrained_intra=0 bframes=3 b_pyramid=2 b_adapt=1 b_bias=0 direct=1 weightb=1 open_gop=0 weightp=2 keyint=250 keyint_min=5 scenecut=40 intra_refresh=0 rc_lookahead=40 rc=crf mbtree=1 crf=12.0 qcomp=0.60 qpmin=0 qpmax=69 qpstep=4 ip_ratio=1.40 aq=1:1.00\n",
      "Output #0, mp4, to '../output/chkpt100/unsplash250_sh1/color_video/0000.mp4':\n",
      "  Metadata:\n",
      "    encoder         : Lavf58.76.100\n",
      "  Stream #0:0: Video: h264 (avc1 / 0x31637661), yuv420p(tv, progressive), 1292x260, q=2-31, 5 fps, 10240 tbn\n",
      "    Metadata:\n",
      "      encoder         : Lavc58.134.100 libx264\n",
      "    Side data:\n",
      "      cpb: bitrate max/min/avg: 0/0/0 buffer size: 0 vbv_delay: N/A\n",
      "frame=  399 fps=105 q=-1.0 Lsize=   56476kB time=00:01:19.20 bitrate=5841.6kbits/s speed=20.8x    \n",
      "video:56470kB audio:0kB subtitle:0kB other streams:0kB global headers:0kB muxing overhead: 0.010398%\n",
      "[libx264 @ 0x55c617660380] frame I:30    Avg QP:10.77  size:189465\n",
      "[libx264 @ 0x55c617660380] frame P:149   Avg QP:12.90  size:144696\n",
      "[libx264 @ 0x55c617660380] frame B:220   Avg QP:14.09  size:139006\n",
      "[libx264 @ 0x55c617660380] consecutive B-frames: 18.0% 21.1% 12.8% 48.1%\n",
      "[libx264 @ 0x55c617660380] mb I  I16..4:  4.6% 19.5% 76.0%\n",
      "[libx264 @ 0x55c617660380] mb P  I16..4:  6.2% 24.2% 54.5%  P16..4:  5.9%  5.3%  3.8%  0.0%  0.0%    skip: 0.0%\n",
      "[libx264 @ 0x55c617660380] mb B  I16..4:  3.1% 16.0% 44.9%  B16..8:  8.0%  7.9%  8.7%  direct:11.1%  skip: 0.1%  L0:40.1% L1:29.6% BI:30.3%\n",
      "[libx264 @ 0x55c617660380] 8x8 transform intra:25.9% inter:34.3%\n",
      "[libx264 @ 0x55c617660380] coded y,uvDC,uvAC intra: 97.0% 95.9% 92.1% inter: 91.0% 94.9% 75.9%\n",
      "[libx264 @ 0x55c617660380] i16 v,h,dc,p: 12% 24% 16% 49%\n",
      "[libx264 @ 0x55c617660380] i8 v,h,dc,ddl,ddr,vr,hd,vl,hu: 16% 16% 14%  8%  8%  9%  9% 11% 11%\n",
      "[libx264 @ 0x55c617660380] i4 v,h,dc,ddl,ddr,vr,hd,vl,hu: 17% 16% 10%  8% 10% 11%  9% 10%  9%\n",
      "[libx264 @ 0x55c617660380] i8c dc,h,v,p: 48% 21% 19% 12%\n",
      "[libx264 @ 0x55c617660380] Weighted P-Frames: Y:45.6% UV:41.6%\n",
      "[libx264 @ 0x55c617660380] ref P L0: 36.1% 13.8% 26.5% 17.3%  6.2%\n",
      "[libx264 @ 0x55c617660380] ref B L0: 72.6% 22.1%  5.3%\n",
      "[libx264 @ 0x55c617660380] ref B L1: 89.7% 10.3%\n",
      "[libx264 @ 0x55c617660380] kb/s:5796.99\n",
      "ffmpeg version 4.4.2-0ubuntu0.22.04.1 Copyright (c) 2000-2021 the FFmpeg developers\n",
      "  built with gcc 11 (Ubuntu 11.2.0-19ubuntu1)\n",
      "  configuration: --prefix=/usr --extra-version=0ubuntu0.22.04.1 --toolchain=hardened --libdir=/usr/lib/x86_64-linux-gnu --incdir=/usr/include/x86_64-linux-gnu --arch=amd64 --enable-gpl --disable-stripping --enable-gnutls --enable-ladspa --enable-libaom --enable-libass --enable-libbluray --enable-libbs2b --enable-libcaca --enable-libcdio --enable-libcodec2 --enable-libdav1d --enable-libflite --enable-libfontconfig --enable-libfreetype --enable-libfribidi --enable-libgme --enable-libgsm --enable-libjack --enable-libmp3lame --enable-libmysofa --enable-libopenjpeg --enable-libopenmpt --enable-libopus --enable-libpulse --enable-librabbitmq --enable-librubberband --enable-libshine --enable-libsnappy --enable-libsoxr --enable-libspeex --enable-libsrt --enable-libssh --enable-libtheora --enable-libtwolame --enable-libvidstab --enable-libvorbis --enable-libvpx --enable-libwebp --enable-libx265 --enable-libxml2 --enable-libxvid --enable-libzimg --enable-libzmq --enable-libzvbi --enable-lv2 --enable-omx --enable-openal --enable-opencl --enable-opengl --enable-sdl2 --enable-pocketsphinx --enable-librsvg --enable-libmfx --enable-libdc1394 --enable-libdrm --enable-libiec61883 --enable-chromaprint --enable-frei0r --enable-libx264 --enable-shared\n",
      "  libavutil      56. 70.100 / 56. 70.100\n",
      "  libavcodec     58.134.100 / 58.134.100\n",
      "  libavformat    58. 76.100 / 58. 76.100\n",
      "  libavdevice    58. 13.100 / 58. 13.100\n",
      "  libavfilter     7.110.100 /  7.110.100\n",
      "  libswscale      5.  9.100 /  5.  9.100\n",
      "  libswresample   3.  9.100 /  3.  9.100\n",
      "  libpostproc    55.  9.100 / 55.  9.100\n",
      "Input #0, image2, from '../output/chkpt100/unsplash250_sh1/color_row/%04d_0001.png':\n",
      "  Duration: 00:00:15.96, start: 0.000000, bitrate: N/A\n",
      "  Stream #0:0: Video: png, rgb24(pc), 1292x260, 25 fps, 25 tbr, 25 tbn, 25 tbc\n",
      "Stream mapping:\n",
      "  Stream #0:0 -> #0:0 (png (native) -> h264 (libx264))\n",
      "Press [q] to stop, [?] for help\n",
      "[libx264 @ 0x55fbaa8e9380] using cpu capabilities: MMX2 SSE2Fast SSSE3 SSE4.2 AVX FMA3 BMI2 AVX2\n",
      "[libx264 @ 0x55fbaa8e9380] profile High, level 2.2, 4:2:0, 8-bit\n",
      "[libx264 @ 0x55fbaa8e9380] 264 - core 163 r3060 5db6aa6 - H.264/MPEG-4 AVC codec - Copyleft 2003-2021 - http://www.videolan.org/x264.html - options: cabac=1 ref=3 deblock=1:0:0 analyse=0x3:0x113 me=hex subme=7 psy=1 psy_rd=1.00:0.00 mixed_ref=1 me_range=16 chroma_me=1 trellis=1 8x8dct=1 cqm=0 deadzone=21,11 fast_pskip=1 chroma_qp_offset=-2 threads=8 lookahead_threads=1 sliced_threads=0 nr=0 decimate=1 interlaced=0 bluray_compat=0 constrained_intra=0 bframes=3 b_pyramid=2 b_adapt=1 b_bias=0 direct=1 weightb=1 open_gop=0 weightp=2 keyint=250 keyint_min=5 scenecut=40 intra_refresh=0 rc_lookahead=40 rc=crf mbtree=1 crf=12.0 qcomp=0.60 qpmin=0 qpmax=69 qpstep=4 ip_ratio=1.40 aq=1:1.00\n",
      "Output #0, mp4, to '../output/chkpt100/unsplash250_sh1/color_video/0001.mp4':\n",
      "  Metadata:\n",
      "    encoder         : Lavf58.76.100\n",
      "  Stream #0:0: Video: h264 (avc1 / 0x31637661), yuv420p(tv, progressive), 1292x260, q=2-31, 5 fps, 10240 tbn\n",
      "    Metadata:\n",
      "      encoder         : Lavc58.134.100 libx264\n",
      "    Side data:\n",
      "      cpb: bitrate max/min/avg: 0/0/0 buffer size: 0 vbv_delay: N/A\n",
      "frame=  399 fps= 85 q=-1.0 Lsize=   63460kB time=00:01:19.20 bitrate=6564.0kbits/s speed=16.9x    \n",
      "video:63455kB audio:0kB subtitle:0kB other streams:0kB global headers:0kB muxing overhead: 0.008731%\n",
      "[libx264 @ 0x55fbaa8e9380] frame I:26    Avg QP:10.94  size:182928\n",
      "[libx264 @ 0x55fbaa8e9380] frame P:173   Avg QP:13.92  size:160134\n",
      "[libx264 @ 0x55fbaa8e9380] frame B:200   Avg QP:14.92  size:162588\n",
      "[libx264 @ 0x55fbaa8e9380] consecutive B-frames: 27.3% 14.5%  9.0% 49.1%\n",
      "[libx264 @ 0x55fbaa8e9380] mb I  I16..4:  3.6% 25.3% 71.2%\n",
      "[libx264 @ 0x55fbaa8e9380] mb P  I16..4:  2.2% 28.2% 56.7%  P16..4:  4.9%  4.8%  3.2%  0.0%  0.0%    skip: 0.0%\n",
      "[libx264 @ 0x55fbaa8e9380] mb B  I16..4:  1.3% 13.5% 44.4%  B16..8:  9.9%  8.9%  9.7%  direct:12.2%  skip: 0.1%  L0:38.5% L1:25.3% BI:36.3%\n",
      "[libx264 @ 0x55fbaa8e9380] 8x8 transform intra:27.9% inter:33.6%\n",
      "[libx264 @ 0x55fbaa8e9380] coded y,uvDC,uvAC intra: 97.4% 92.9% 87.2% inter: 92.0% 94.2% 78.5%\n",
      "[libx264 @ 0x55fbaa8e9380] i16 v,h,dc,p: 15% 46% 11% 28%\n",
      "[libx264 @ 0x55fbaa8e9380] i8 v,h,dc,ddl,ddr,vr,hd,vl,hu: 18% 18% 11%  5% 11% 11%  9%  7%  9%\n",
      "[libx264 @ 0x55fbaa8e9380] i4 v,h,dc,ddl,ddr,vr,hd,vl,hu: 20% 16%  8%  6% 11% 13%  9%  8%  9%\n",
      "[libx264 @ 0x55fbaa8e9380] i8c dc,h,v,p: 52% 20% 19%  9%\n",
      "[libx264 @ 0x55fbaa8e9380] Weighted P-Frames: Y:51.4% UV:42.2%\n",
      "[libx264 @ 0x55fbaa8e9380] ref P L0: 29.2%  9.9% 23.5% 24.5% 12.9%\n",
      "[libx264 @ 0x55fbaa8e9380] ref B L0: 69.1% 23.4%  7.5%\n",
      "[libx264 @ 0x55fbaa8e9380] ref B L1: 89.0% 11.0%\n",
      "[libx264 @ 0x55fbaa8e9380] kb/s:6513.98\n"
     ]
    }
   ],
   "source": [
    "SCALE_ID = [0, 1]\n",
    "for scale_id in (SCALE_ID):\n",
    "    os.system(f'ffmpeg -r 5 -i \"{FOLDER_ROW}/%04d_{scale_id:04d}.png\" -c:v libx264 -crf 12 -pix_fmt yuv420p -vf pad=\"width=ceil(iw/2)*2:height=ceil(ih/2)*2\" {FOLDER_VID}/{scale_id:04d}.mp4')"
   ]
  },
  {
   "cell_type": "code",
   "execution_count": 7,
   "metadata": {},
   "outputs": [
    {
     "ename": "TypeError",
     "evalue": "unsupported format string passed to tuple.__format__",
     "output_type": "error",
     "traceback": [
      "\u001b[0;31m---------------------------------------------------------------------------\u001b[0m",
      "\u001b[0;31mTypeError\u001b[0m                                 Traceback (most recent call last)",
      "Cell \u001b[0;32mIn[7], line 3\u001b[0m\n\u001b[1;32m      1\u001b[0m SCALE_ID \u001b[38;5;241m=\u001b[39m [\u001b[38;5;241m0\u001b[39m, \u001b[38;5;241m1\u001b[39m]\n\u001b[1;32m      2\u001b[0m \u001b[38;5;28;01mfor\u001b[39;00m scale_id \u001b[38;5;129;01min\u001b[39;00m \u001b[38;5;28menumerate\u001b[39m(SCALE_ID):\n\u001b[0;32m----> 3\u001b[0m     \u001b[38;5;28mprint\u001b[39m(\u001b[38;5;124mf\u001b[39m\u001b[38;5;124m'\u001b[39m\u001b[38;5;124mffmpeg -r 5 -i \u001b[39m\u001b[38;5;124m\"\u001b[39m\u001b[38;5;132;01m{\u001b[39;00mFOLDER_ROW\u001b[38;5;132;01m}\u001b[39;00m\u001b[38;5;124m/%04d_\u001b[39m\u001b[38;5;132;01m{\u001b[39;00mscale_id\u001b[38;5;132;01m:\u001b[39;00m\u001b[38;5;124m04d\u001b[39m\u001b[38;5;132;01m}\u001b[39;00m\u001b[38;5;124m.png\u001b[39m\u001b[38;5;124m\"\u001b[39m\u001b[38;5;124m -c:v libx264 -crf 12 -pix_fmt yuv420p -vf pad=\u001b[39m\u001b[38;5;124m\"\u001b[39m\u001b[38;5;124mwidth=ceil(iw/2)*2:height=ceil(ih/2)*2\u001b[39m\u001b[38;5;124m\"\u001b[39m\u001b[38;5;124m \u001b[39m\u001b[38;5;132;01m{\u001b[39;00mFOLDER_VID\u001b[38;5;132;01m}\u001b[39;00m\u001b[38;5;124m/\u001b[39m\u001b[38;5;132;01m{\u001b[39;00mscale_id\u001b[38;5;132;01m:\u001b[39;00m\u001b[38;5;124m04d\u001b[39m\u001b[38;5;132;01m}\u001b[39;00m\u001b[38;5;124m.mp4\u001b[39m\u001b[38;5;124m'\u001b[39m)\n",
      "\u001b[0;31mTypeError\u001b[0m: unsupported format string passed to tuple.__format__"
     ]
    }
   ],
   "source": [
    "SCALE_ID = [0, 1]\n",
    "for scale_id in enumerate(SCALE_ID):\n",
    "    print(f'ffmpeg -r 5 -i \"{FOLDER_ROW}/%04d_{scale_id:04d}.png\" -c:v libx264 -crf 12 -pix_fmt yuv420p -vf pad=\"width=ceil(iw/2)*2:height=ceil(ih/2)*2\" {FOLDER_VID}/{scale_id:04d}.mp4')"
   ]
  },
  {
   "cell_type": "code",
   "execution_count": null,
   "metadata": {},
   "outputs": [],
   "source": []
  }
 ],
 "metadata": {
  "kernelspec": {
   "display_name": "venv_pytorch2.0",
   "language": "python",
   "name": "python3"
  },
  "language_info": {
   "codemirror_mode": {
    "name": "ipython",
    "version": 3
   },
   "file_extension": ".py",
   "mimetype": "text/x-python",
   "name": "python",
   "nbconvert_exporter": "python",
   "pygments_lexer": "ipython3",
   "version": "3.11.6"
  }
 },
 "nbformat": 4,
 "nbformat_minor": 2
}
