{
 "cells": [
  {
   "cell_type": "code",
   "execution_count": 1,
   "metadata": {},
   "outputs": [],
   "source": [
    "import os \n",
    "import numpy as np"
   ]
  },
  {
   "cell_type": "code",
   "execution_count": 4,
   "metadata": {},
   "outputs": [],
   "source": [
    "sh_coeffs = []\n",
    "for i in range(360):\n",
    "    path = os.path.join('../datasets/v2/shoe401_360/coeffs', f'{i:06d}.npy')\n",
    "    sh_coeffs.append(np.load(path))"
   ]
  },
  {
   "cell_type": "code",
   "execution_count": 9,
   "metadata": {},
   "outputs": [],
   "source": [
    "def unfold_sh_coeff(flatted_coeff, max_sh_level=2):\n",
    "    \"\"\"\n",
    "    flatten spherical harmonics coefficient to 3xC matrix\n",
    "    #  array format [0_0, 1_-1, 1_0, 1_1, 2_-2, 2_-1, 2_0, 2_1, 2_2]\n",
    "    \"\"\"\n",
    "    sh_coeff = np.zeros((3, 2, max_sh_level+1, max_sh_level+1))\n",
    "    for i in range(3):\n",
    "        c = 0\n",
    "        for j in range(max_sh_level+1):\n",
    "            for k in range(j, 0, -1):\n",
    "                sh_coeff[i, 1, j, k] = flatted_coeff[i, c]\n",
    "                c +=1\n",
    "            for k in range(j+1):\n",
    "                sh_coeff[i, 0, j, k] = flatted_coeff[i, c]\n",
    "                c += 1\n",
    "    return sh_coeff"
   ]
  },
  {
   "cell_type": "code",
   "execution_count": 10,
   "metadata": {},
   "outputs": [],
   "source": [
    "unfold_coeffs = [unfold_sh_coeff(a) for a in sh_coeffs]"
   ]
  },
  {
   "cell_type": "code",
   "execution_count": 11,
   "metadata": {},
   "outputs": [
    {
     "data": {
      "text/plain": [
       "(3, 2, 3, 3)"
      ]
     },
     "execution_count": 11,
     "metadata": {},
     "output_type": "execute_result"
    }
   ],
   "source": [
    "unfold_coeffs[0].shape"
   ]
  },
  {
   "cell_type": "code",
   "execution_count": 13,
   "metadata": {},
   "outputs": [
    {
     "data": {
      "text/plain": [
       "(3, 2, 101, 101)"
      ]
     },
     "execution_count": 13,
     "metadata": {},
     "output_type": "execute_result"
    }
   ],
   "source": [
    "np.load(\"../datasets/v2/unsplash250cast/coeffs/_D5PWijBDWA.npy\").shape"
   ]
  },
  {
   "cell_type": "code",
   "execution_count": 14,
   "metadata": {},
   "outputs": [],
   "source": [
    "for i in range(360):\n",
    "    path = os.path.join('../datasets/v2/shoe401_360/coeffs', f'{i:06d}.npy')\n",
    "    np.save(path, unfold_coeffs[i])"
   ]
  },
  {
   "cell_type": "code",
   "execution_count": 19,
   "metadata": {},
   "outputs": [],
   "source": [
    "new_unfold_coeffs = np.concatenate([n[None] for n in unfold_coeffs], axis=0)"
   ]
  },
  {
   "cell_type": "code",
   "execution_count": 21,
   "metadata": {},
   "outputs": [],
   "source": [
    "min_arr = np.min(new_unfold_coeffs, axis=0)"
   ]
  },
  {
   "cell_type": "code",
   "execution_count": 23,
   "metadata": {},
   "outputs": [],
   "source": [
    "max_arr = np.max(new_unfold_coeffs, axis=0)"
   ]
  },
  {
   "cell_type": "code",
   "execution_count": 24,
   "metadata": {},
   "outputs": [],
   "source": [
    "min_max_arr = np.concatenate([min_arr[None], max_arr[None]], axis=0)"
   ]
  },
  {
   "cell_type": "code",
   "execution_count": 26,
   "metadata": {},
   "outputs": [
    {
     "data": {
      "text/plain": [
       "(2, 3, 2, 3, 3)"
      ]
     },
     "execution_count": 26,
     "metadata": {},
     "output_type": "execute_result"
    }
   ],
   "source": [
    "min_max_arr.shape"
   ]
  },
  {
   "cell_type": "code",
   "execution_count": 27,
   "metadata": {},
   "outputs": [],
   "source": [
    "np.save(\"../datasets/v2/shoe401_360/coeffs/coeffs_minmax.npy\", min_max_arr)"
   ]
  },
  {
   "cell_type": "code",
   "execution_count": 28,
   "metadata": {},
   "outputs": [],
   "source": [
    "prompts = {}\n",
    "for i in range(360):\n",
    "    path = os.path.join('../datasets/v2/shoe401_360/prompts', f'{i:06d}.npy')\n",
    "    prompts[f\"{i:06d}\"] = \"\""
   ]
  },
  {
   "cell_type": "code",
   "execution_count": 31,
   "metadata": {},
   "outputs": [],
   "source": [
    "import json"
   ]
  },
  {
   "cell_type": "code",
   "execution_count": 32,
   "metadata": {},
   "outputs": [],
   "source": [
    "with open(\"../datasets/v2/shoe401_360/prompts.json\", \"w\") as f:\n",
    "    json.dump(prompts, f, indent=4)"
   ]
  },
  {
   "cell_type": "code",
   "execution_count": 33,
   "metadata": {},
   "outputs": [],
   "source": [
    "filename = list(range(360))"
   ]
  },
  {
   "cell_type": "code",
   "execution_count": 34,
   "metadata": {},
   "outputs": [],
   "source": [
    "outname = filename[180:]"
   ]
  },
  {
   "cell_type": "code",
   "execution_count": 36,
   "metadata": {},
   "outputs": [],
   "source": [
    "outname = outname[::12]"
   ]
  },
  {
   "cell_type": "code",
   "execution_count": 38,
   "metadata": {},
   "outputs": [],
   "source": [
    "outname = outname + [359]"
   ]
  },
  {
   "cell_type": "code",
   "execution_count": 39,
   "metadata": {},
   "outputs": [
    {
     "data": {
      "text/plain": [
       "[180,\n",
       " 192,\n",
       " 204,\n",
       " 216,\n",
       " 228,\n",
       " 240,\n",
       " 252,\n",
       " 264,\n",
       " 276,\n",
       " 288,\n",
       " 300,\n",
       " 312,\n",
       " 324,\n",
       " 336,\n",
       " 348,\n",
       " 359]"
      ]
     },
     "execution_count": 39,
     "metadata": {},
     "output_type": "execute_result"
    }
   ],
   "source": [
    "outname"
   ]
  },
  {
   "cell_type": "code",
   "execution_count": 40,
   "metadata": {},
   "outputs": [],
   "source": [
    "import shutil"
   ]
  },
  {
   "cell_type": "code",
   "execution_count": 43,
   "metadata": {},
   "outputs": [],
   "source": [
    "for fname in outname:\n",
    "    #shutil.copy2(f\"../datasets/v2/shoe401_360/coeffs/{fname:06d}.npy\", f\"../datasets/v2/shoe401_few/coeffs/{fname:06d}.npy\")\n",
    "    shutil.copy2(f\"../datasets/v2/shoe401_360/images/{fname:06d}.png\", f\"../datasets/v2/shoe401_few/images/{fname:06d}.png\")"
   ]
  },
  {
   "cell_type": "code",
   "execution_count": null,
   "metadata": {},
   "outputs": [],
   "source": []
  }
 ],
 "metadata": {
  "kernelspec": {
   "display_name": "venv_pytorch2.0",
   "language": "python",
   "name": "python3"
  },
  "language_info": {
   "codemirror_mode": {
    "name": "ipython",
    "version": 3
   },
   "file_extension": ".py",
   "mimetype": "text/x-python",
   "name": "python",
   "nbconvert_exporter": "python",
   "pygments_lexer": "ipython3",
   "version": "3.11.8"
  }
 },
 "nbformat": 4,
 "nbformat_minor": 2
}
