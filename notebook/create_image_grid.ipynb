{
 "cells": [
  {
   "cell_type": "code",
   "execution_count": 62,
   "metadata": {},
   "outputs": [],
   "source": [
    "import os \n",
    "import torchvision\n",
    "import torch \n",
    "import os\n",
    "import numpy as np\n",
    "from tqdm.auto import tqdm"
   ]
  },
  {
   "cell_type": "code",
   "execution_count": 77,
   "metadata": {},
   "outputs": [],
   "source": [
    "NUM_CLASSES = 10\n",
    "NUM_SAMPLES = 5  \n",
    "SCALE_IDX = 1\n",
    "PATH = \"output/rank_experiment/unsplash2000/4/chkpt19500_background\"\n",
    "OUTNAME = f'output/rank_experiment/unsplash2000/gray_rank4_chkpt19500_{SCALE_IDX}.png'\n",
    "#PATH = \"output/unsplash2000/chkpt30000\"\n",
    "#PATH = \"output/unsplash2000_latent/chkpt9500\""
   ]
  },
  {
   "cell_type": "code",
   "execution_count": 78,
   "metadata": {},
   "outputs": [
    {
     "data": {
      "application/vnd.jupyter.widget-view+json": {
       "model_id": "0db847afc59942b2b462db3deb74038c",
       "version_major": 2,
       "version_minor": 0
      },
      "text/plain": [
       "  0%|          | 0/10 [00:00<?, ?it/s]"
      ]
     },
     "metadata": {},
     "output_type": "display_data"
    }
   ],
   "source": [
    "images = []\n",
    "for class_id in tqdm(range(NUM_CLASSES)):\n",
    "    for sample_id in range(NUM_SAMPLES):\n",
    "        fpath = os.path.join(PATH, f'{class_id:04d}_{SCALE_IDX:04d}_{sample_id:04d}.png')\n",
    "        image = torchvision.io.read_image(fpath)\n",
    "        image = torchvision.transforms.functional.resize(image, (256,256))\n",
    "        images.append(image)\n",
    "images = torch.stack(images)\n",
    "grid = torchvision.utils.make_grid(images, nrow=NUM_SAMPLES)\n",
    "grid = torchvision.transforms.ToPILImage()(grid)\n",
    "#grid.save(f'output/unsplash2000_latent/chkpt10000_scaled{SCALE_IDX}.png')\n",
    "#grid.save(f'output/unsplash2000_latent/chkpt9500_scaled{SCALE_IDX}.png')\n",
    "grid.save(OUTNAME)\n"
   ]
  },
  {
   "cell_type": "code",
   "execution_count": null,
   "metadata": {},
   "outputs": [],
   "source": []
  },
  {
   "cell_type": "code",
   "execution_count": null,
   "metadata": {},
   "outputs": [],
   "source": []
  }
 ],
 "metadata": {
  "kernelspec": {
   "display_name": "venv_pytorch2.0",
   "language": "python",
   "name": "python3"
  },
  "language_info": {
   "codemirror_mode": {
    "name": "ipython",
    "version": 3
   },
   "file_extension": ".py",
   "mimetype": "text/x-python",
   "name": "python",
   "nbconvert_exporter": "python",
   "pygments_lexer": "ipython3",
   "version": "3.11.6"
  }
 },
 "nbformat": 4,
 "nbformat_minor": 2
}
