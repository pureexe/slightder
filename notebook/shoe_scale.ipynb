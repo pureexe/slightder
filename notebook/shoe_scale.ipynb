{
 "cells": [
  {
   "cell_type": "code",
   "execution_count": 2,
   "metadata": {},
   "outputs": [],
   "source": [
    "import torchvision \n",
    "import torch \n",
    "from PIL import Image \n",
    "\n",
    "import os \n",
    "from PIL import Image\n",
    "from PIL import ImageFont\n",
    "from PIL import ImageDraw \n",
    "font = ImageFont.truetype(\"/usr/share/fonts/truetype/noto/NotoSansMono-Regular.ttf\", 32)\n",
    "import numpy as np\n",
    "from tqdm.auto import tqdm\n",
    "import skimage\n",
    "from tqdm.auto import tqdm"
   ]
  },
  {
   "cell_type": "code",
   "execution_count": 5,
   "metadata": {},
   "outputs": [],
   "source": [
    "OBJECTS = [\n",
    "    'shoe',\n",
    "]\n",
    "SCALES = [-1.0, -0.75, 0.5, 0.25, 0.0, 0.25, 0.5, 0.75, 1.0]\n",
    "LORA_CHKPT = range(100, 20100, 100)\n",
    "SEEDS = [807, 200, 201, 202, 800]\n",
    "\n",
    "LEARNING_RATE = \"5e-5\"\n",
    "ROOT_DIR = \"../output/chkpt100/512_unsplash250_cast_singlescale_chkpt100_lr5e-5_shoescale/\"\n",
    "COLOR_TYPE=\"gray\"\n",
    "SCALE_ID = 0\n",
    "FOLDER_OUT = f\"{ROOT_DIR}/scale_{SCALES[SCALE_ID]:.2f}/{COLOR_TYPE}_with_text\"\n",
    "FOLDER_IN = f\"{ROOT_DIR}/scale_{SCALES[SCALE_ID]:.2f}/{COLOR_TYPE}\"\n",
    "FOLDER_VID = f\"{ROOT_DIR}/scale_{SCALES[SCALE_ID]:.2f}/{COLOR_TYPE}_video\"\n",
    "FOLDER_ROW = f\"{ROOT_DIR}/scale_{SCALES[SCALE_ID]:.2f}/{COLOR_TYPE}_row\"\n",
    "\n",
    "os.makedirs(FOLDER_OUT, exist_ok=True)\n",
    "os.makedirs(FOLDER_VID, exist_ok=True)\n",
    "os.makedirs(FOLDER_ROW, exist_ok=True)"
   ]
  },
  {
   "cell_type": "code",
   "execution_count": 7,
   "metadata": {},
   "outputs": [
    {
     "data": {
      "application/vnd.jupyter.widget-view+json": {
       "model_id": "485402b459db4c96a2867cff9f3528a2",
       "version_major": 2,
       "version_minor": 0
      },
      "text/plain": [
       "  0%|          | 0/200 [00:00<?, ?it/s]"
      ]
     },
     "metadata": {},
     "output_type": "display_data"
    }
   ],
   "source": [
    "\n",
    "for lora_id, lora_name in enumerate(tqdm(LORA_CHKPT)):\n",
    "    for prompt_id, prompt_name in enumerate(OBJECTS):\n",
    "        for scale_id, scale_name in enumerate([SCALES[SCALE_ID]]): #enumerate(SCALES):\n",
    "            for seed_id, seed_name in enumerate(SEEDS):\n",
    "                fpath = f\"{FOLDER_IN}/{lora_id:04d}_{prompt_id:04d}_{scale_id:04d}_{seed_id:04d}.png\"\n",
    "                #print(fpath)\n",
    "                image = Image.open(fpath)\n",
    "                draw = ImageDraw.Draw(image)\n",
    "                draw.text((10, 10),f\"step: {lora_name:5d}\\nprompt: {prompt_name}\\nscale: {scale_name:.2f}\\nseed: {seed_name:3d}\\nLR: {LEARNING_RATE}\",(255,255,255),font=font)\n",
    "                image.save(f\"{FOLDER_OUT}/{lora_id:04d}_{prompt_id:04d}_{scale_id:04d}_{seed_id:04d}.png\")\n",
    "\n"
   ]
  },
  {
   "cell_type": "code",
   "execution_count": 8,
   "metadata": {},
   "outputs": [
    {
     "data": {
      "application/vnd.jupyter.widget-view+json": {
       "model_id": "f04ef75fbb1f45ee95ce499c196d15d4",
       "version_major": 2,
       "version_minor": 0
      },
      "text/plain": [
       "  0%|          | 0/200 [00:00<?, ?it/s]"
      ]
     },
     "metadata": {},
     "output_type": "display_data"
    },
    {
     "data": {
      "application/vnd.jupyter.widget-view+json": {
       "model_id": "33b4dc9e7329485d8897837390dd4b0c",
       "version_major": 2,
       "version_minor": 0
      },
      "text/plain": [
       "  0%|          | 0/200 [00:00<?, ?it/s]"
      ]
     },
     "metadata": {},
     "output_type": "display_data"
    },
    {
     "data": {
      "application/vnd.jupyter.widget-view+json": {
       "model_id": "70858e24751b4185980f4effe568ceda",
       "version_major": 2,
       "version_minor": 0
      },
      "text/plain": [
       "  0%|          | 0/200 [00:00<?, ?it/s]"
      ]
     },
     "metadata": {},
     "output_type": "display_data"
    },
    {
     "data": {
      "application/vnd.jupyter.widget-view+json": {
       "model_id": "ccf539a01f9b46d48191c6ae0ccf95ae",
       "version_major": 2,
       "version_minor": 0
      },
      "text/plain": [
       "  0%|          | 0/200 [00:00<?, ?it/s]"
      ]
     },
     "metadata": {},
     "output_type": "display_data"
    },
    {
     "data": {
      "application/vnd.jupyter.widget-view+json": {
       "model_id": "05a7d4d76aad41bd813637bf91a5a8d3",
       "version_major": 2,
       "version_minor": 0
      },
      "text/plain": [
       "  0%|          | 0/200 [00:00<?, ?it/s]"
      ]
     },
     "metadata": {},
     "output_type": "display_data"
    },
    {
     "data": {
      "application/vnd.jupyter.widget-view+json": {
       "model_id": "7018b01682374d368c6da0ba8febbac0",
       "version_major": 2,
       "version_minor": 0
      },
      "text/plain": [
       "  0%|          | 0/200 [00:00<?, ?it/s]"
      ]
     },
     "metadata": {},
     "output_type": "display_data"
    },
    {
     "data": {
      "application/vnd.jupyter.widget-view+json": {
       "model_id": "e476e5f0e5fb45ef8d631400e695a830",
       "version_major": 2,
       "version_minor": 0
      },
      "text/plain": [
       "  0%|          | 0/200 [00:00<?, ?it/s]"
      ]
     },
     "metadata": {},
     "output_type": "display_data"
    },
    {
     "data": {
      "application/vnd.jupyter.widget-view+json": {
       "model_id": "29b4e20c9ad348559305b8ec6fa28a08",
       "version_major": 2,
       "version_minor": 0
      },
      "text/plain": [
       "  0%|          | 0/200 [00:00<?, ?it/s]"
      ]
     },
     "metadata": {},
     "output_type": "display_data"
    }
   ],
   "source": [
    "for idx in range(1, len(SCALES)):\n",
    "    OBJECTS = [\n",
    "        'shoe',\n",
    "    ]\n",
    "    SCALES = [-1.0, -0.75, 0.5, 0.25, 0.0, 0.25, 0.5, 0.75, 1.0]\n",
    "    LORA_CHKPT = range(100, 20100, 100)\n",
    "    SEEDS = [807, 200, 201, 202, 800]\n",
    "\n",
    "    LEARNING_RATE = \"5e-5\"\n",
    "    ROOT_DIR = \"../output/chkpt100/512_unsplash250_cast_singlescale_chkpt100_lr5e-5_shoescale/\"\n",
    "    COLOR_TYPE=\"gray\"\n",
    "    SCALE_ID = idx\n",
    "    FOLDER_OUT = f\"{ROOT_DIR}/scale_{SCALES[SCALE_ID]:.2f}/{COLOR_TYPE}_with_text\"\n",
    "    FOLDER_IN = f\"{ROOT_DIR}/scale_{SCALES[SCALE_ID]:.2f}/{COLOR_TYPE}\"\n",
    "    FOLDER_VID = f\"{ROOT_DIR}/scale_{SCALES[SCALE_ID]:.2f}/{COLOR_TYPE}_video\"\n",
    "    FOLDER_ROW = f\"{ROOT_DIR}/scale_{SCALES[SCALE_ID]:.2f}/{COLOR_TYPE}_row\"\n",
    "\n",
    "    os.makedirs(FOLDER_OUT, exist_ok=True)\n",
    "    os.makedirs(FOLDER_VID, exist_ok=True)\n",
    "    os.makedirs(FOLDER_ROW, exist_ok=True)\n",
    "    \n",
    "    for lora_id, lora_name in enumerate(tqdm(LORA_CHKPT)):\n",
    "        for prompt_id, prompt_name in enumerate(OBJECTS):\n",
    "            for scale_id, scale_name in enumerate([SCALES[SCALE_ID]]): #enumerate(SCALES):\n",
    "                for seed_id, seed_name in enumerate(SEEDS):\n",
    "                    fpath = f\"{FOLDER_IN}/{lora_id:04d}_{prompt_id:04d}_{scale_id:04d}_{seed_id:04d}.png\"\n",
    "                    #print(fpath)\n",
    "                    image = Image.open(fpath)\n",
    "                    draw = ImageDraw.Draw(image)\n",
    "                    draw.text((10, 10),f\"step: {lora_name:5d}\\nprompt: {prompt_name}\\nscale: {scale_name:.2f}\\nseed: {seed_name:3d}\\nLR: {LEARNING_RATE}\",(255,255,255),font=font)\n",
    "                    image.save(f\"{FOLDER_OUT}/{lora_id:04d}_{prompt_id:04d}_{scale_id:04d}_{seed_id:04d}.png\")\n",
    "\n"
   ]
  },
  {
   "cell_type": "code",
   "execution_count": null,
   "metadata": {},
   "outputs": [],
   "source": []
  },
  {
   "cell_type": "code",
   "execution_count": 14,
   "metadata": {},
   "outputs": [
    {
     "data": {
      "application/vnd.jupyter.widget-view+json": {
       "model_id": "2c711bc5c0cb4cd9bd14b19a06a6f8da",
       "version_major": 2,
       "version_minor": 0
      },
      "text/plain": [
       "  0%|          | 0/200 [00:00<?, ?it/s]"
      ]
     },
     "metadata": {},
     "output_type": "display_data"
    }
   ],
   "source": [
    "FOLDER_ROW = f\"{ROOT_DIR}/{COLOR_TYPE}_row\"\n",
    "for lora_id, lora_name in enumerate(tqdm(LORA_CHKPT)):\n",
    "        images = []        \n",
    "        for seed_id, seed_name in enumerate(SEEDS):\n",
    "            for scale_id, scale_name in enumerate(SCALES):\n",
    "        #for prompt_id, prompt_name in enumerate(OBJECTS):\n",
    "                fpath = os.path.join(ROOT_DIR, f\"scale_{scale_name:.2f}\",\"gray_with_text\",f'{lora_id:04d}_0000_0000_{seed_id:04d}.png')\n",
    "                image = torchvision.io.read_image(fpath)\n",
    "                image = torchvision.transforms.functional.resize(image, (256,256))\n",
    "                images.append(image)\n",
    "        images = torch.stack(images)\n",
    "        grid = torchvision.utils.make_grid(images, nrow=len(SCALES))\n",
    "        grid = torchvision.transforms.ToPILImage()(grid)\n",
    "        output_name = f\"{ROOT_DIR}/gray_row/{lora_id:04d}.png\"\n",
    "        grid.save(output_name)\n"
   ]
  },
  {
   "cell_type": "code",
   "execution_count": null,
   "metadata": {},
   "outputs": [
    {
     "name": "stderr",
     "output_type": "stream",
     "text": [
      "ffmpeg version 4.4.2-0ubuntu0.22.04.1 Copyright (c) 2000-2021 the FFmpeg developers\n",
      "  built with gcc 11 (Ubuntu 11.2.0-19ubuntu1)\n",
      "  configuration: --prefix=/usr --extra-version=0ubuntu0.22.04.1 --toolchain=hardened --libdir=/usr/lib/x86_64-linux-gnu --incdir=/usr/include/x86_64-linux-gnu --arch=amd64 --enable-gpl --disable-stripping --enable-gnutls --enable-ladspa --enable-libaom --enable-libass --enable-libbluray --enable-libbs2b --enable-libcaca --enable-libcdio --enable-libcodec2 --enable-libdav1d --enable-libflite --enable-libfontconfig --enable-libfreetype --enable-libfribidi --enable-libgme --enable-libgsm --enable-libjack --enable-libmp3lame --enable-libmysofa --enable-libopenjpeg --enable-libopenmpt --enable-libopus --enable-libpulse --enable-librabbitmq --enable-librubberband --enable-libshine --enable-libsnappy --enable-libsoxr --enable-libspeex --enable-libsrt --enable-libssh --enable-libtheora --enable-libtwolame --enable-libvidstab --enable-libvorbis --enable-libvpx --enable-libwebp --enable-libx265 --enable-libxml2 --enable-libxvid --enable-libzimg --enable-libzmq --enable-libzvbi --enable-lv2 --enable-omx --enable-openal --enable-opencl --enable-opengl --enable-sdl2 --enable-pocketsphinx --enable-librsvg --enable-libmfx --enable-libdc1394 --enable-libdrm --enable-libiec61883 --enable-chromaprint --enable-frei0r --enable-libx264 --enable-shared\n",
      "  libavutil      56. 70.100 / 56. 70.100\n",
      "  libavcodec     58.134.100 / 58.134.100\n",
      "  libavformat    58. 76.100 / 58. 76.100\n",
      "  libavdevice    58. 13.100 / 58. 13.100\n",
      "  libavfilter     7.110.100 /  7.110.100\n",
      "  libswscale      5.  9.100 /  5.  9.100\n",
      "  libswresample   3.  9.100 /  3.  9.100\n",
      "  libpostproc    55.  9.100 / 55.  9.100\n",
      "Input #0, image2, from '../output/chkpt100/512_unsplash250_learning_rate/1e-3/gray_row/%04d_0000.png':\n",
      "  Duration: 00:00:00.80, start: 0.000000, bitrate: N/A\n",
      "  Stream #0:0: Video: png, rgb24(pc), 1292x260, 25 fps, 25 tbr, 25 tbn, 25 tbc\n",
      "File '../output/chkpt100/512_unsplash250_learning_rate/1e-3/gray_video/0000.mp4' already exists. Overwrite? [y/N] "
     ]
    }
   ],
   "source": [
    "#FOLDER_VID = f\"../output/chkpt100/unsplash250_sh1/gray_row2000\"\n",
    "#FOLDER_ROW = f\"../output/chkpt100/unsplash250_sh1/gray_video2000\"\n",
    "#os.makedirs(FOLDER_VID, exist_ok=True)\n",
    "#os.makedirs(FOLDER_ROW, exist_ok=True)\n",
    "SCALE_ID = [0, 1]\n",
    "for scale_id in (SCALE_ID):\n",
    "    cmd = f'ffmpeg -r 5 -i \"{FOLDER_ROW}/%04d_{scale_id:04d}.png\" -c:v libx264 -crf 12 -pix_fmt yuv420p -vf pad=\"width=ceil(iw/2)*2:height=ceil(ih/2)*2\" {FOLDER_VID}/{scale_id:04d}.mp4'\n",
    "    os.system(cmd)\n",
    "\n"
   ]
  },
  {
   "cell_type": "code",
   "execution_count": null,
   "metadata": {},
   "outputs": [],
   "source": []
  },
  {
   "cell_type": "code",
   "execution_count": null,
   "metadata": {},
   "outputs": [],
   "source": []
  }
 ],
 "metadata": {
  "kernelspec": {
   "display_name": "venv_pytorch2.0",
   "language": "python",
   "name": "python3"
  },
  "language_info": {
   "codemirror_mode": {
    "name": "ipython",
    "version": 3
   },
   "file_extension": ".py",
   "mimetype": "text/x-python",
   "name": "python",
   "nbconvert_exporter": "python",
   "pygments_lexer": "ipython3",
   "version": "3.11.8"
  }
 },
 "nbformat": 4,
 "nbformat_minor": 2
}
