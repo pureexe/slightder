{
 "cells": [
  {
   "cell_type": "code",
   "execution_count": 3,
   "metadata": {},
   "outputs": [],
   "source": [
    "import os \n",
    "from PIL import Image\n",
    "from PIL import ImageFont\n",
    "from PIL import ImageDraw \n",
    "font = ImageFont.truetype(\"/usr/share/fonts/truetype/noto/NotoSansMono-Regular.ttf\", 24)\n",
    "\n"
   ]
  },
  {
   "cell_type": "code",
   "execution_count": 4,
   "metadata": {},
   "outputs": [],
   "source": [
    "for i in range(360):\n",
    "    image = Image.open(f\"output/unsplash2000_lora_latent/convnext_base/chkpt50000_rotate_studio/0000_{i:04d}_0000.png\")\n",
    "    draw = ImageDraw.Draw(image)\n",
    "    draw.text((10, 10),f\"rotate: {i:3d}\",(255,255,255),font=font)\n",
    "    image.save(f\"output/unsplash2000_lora_latent/convnext_base/chkpt50000_rotate_studio_text/{i:04d}.png\")"
   ]
  },
  {
   "cell_type": "code",
   "execution_count": null,
   "metadata": {},
   "outputs": [],
   "source": []
  }
 ],
 "metadata": {
  "kernelspec": {
   "display_name": "venv_pytorch2.0",
   "language": "python",
   "name": "python3"
  },
  "language_info": {
   "codemirror_mode": {
    "name": "ipython",
    "version": 3
   },
   "file_extension": ".py",
   "mimetype": "text/x-python",
   "name": "python",
   "nbconvert_exporter": "python",
   "pygments_lexer": "ipython3",
   "version": "3.11.6"
  }
 },
 "nbformat": 4,
 "nbformat_minor": 2
}
